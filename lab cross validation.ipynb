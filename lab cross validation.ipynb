{
 "cells": [
  {
   "cell_type": "markdown",
   "id": "f795e3d9-829c-4ab6-ae63-af909063ba84",
   "metadata": {},
   "source": [
    "# Lab | Cross Validation\n",
    "\n",
    "Jorge Castro DAPT NOV 2021\n",
    "\n",
    "For this lab, we will build a model on customer churn binary classification problem. You will be using `files_for_lab/Customer-Churn.csv` file.\n",
    "\n",
    "\n",
    "\n",
    "### Instructions\n",
    "\n",
    "1. Apply SMOTE for upsampling the data\n",
    "\n",
    "    - Use logistic regression to fit the model and compute the accuracy of the model.\n",
    "    - Use decision tree classifier to fit the model and compute the accuracy of the model.\n",
    "    - Compare the accuracies of the two models.\n",
    "\n",
    "\n",
    "2. Apply TomekLinks for downsampling\n",
    "\n",
    "    - It is important to remember that it does not make the two classes equal but only removes the points from the majority class that are close to other points in minority class.\n",
    "    - Use logistic regression to fit the model and compute the accuracy of the model.\n",
    "    - Use decision tree classifier to fit the model and compute the accuracy of the model.\n",
    "    - Compare the accuracies of the two models.\n",
    "    - You can also apply this algorithm one more time and check the how the imbalance in the two classes changed from the last time."
   ]
  },
  {
   "cell_type": "code",
   "execution_count": 2,
   "id": "0a83ec07-abe5-4413-96ba-99ce2a9c451c",
   "metadata": {},
   "outputs": [],
   "source": [
    "import pandas as pd\n",
    "import numpy as np\n",
    "from sklearn.model_selection import train_test_split\n",
    "from sklearn.preprocessing import StandardScaler\n",
    "from imblearn.under_sampling import TomekLinks\n",
    "from imblearn.under_sampling import TomekLinks\n",
    "from sklearn.linear_model import LogisticRegression\n",
    "from sklearn.neighbors import KNeighborsClassifier\n",
    "from sklearn.metrics import cohen_kappa_score, accuracy_score \n",
    "from sklearn.tree import DecisionTreeClassifier\n",
    "from sklearn.metrics import confusion_matrix, plot_confusion_matrix"
   ]
  },
  {
   "cell_type": "code",
   "execution_count": 3,
   "id": "da76ebcf-25f4-48e3-8804-e7339bc9b04d",
   "metadata": {},
   "outputs": [],
   "source": [
    "data = pd.read_csv('Customer-Churn.csv')"
   ]
  },
  {
   "cell_type": "code",
   "execution_count": 4,
   "id": "a7f732e9-f730-43bf-b17c-171ec3fca674",
   "metadata": {},
   "outputs": [
    {
     "data": {
      "text/html": [
       "<div>\n",
       "<style scoped>\n",
       "    .dataframe tbody tr th:only-of-type {\n",
       "        vertical-align: middle;\n",
       "    }\n",
       "\n",
       "    .dataframe tbody tr th {\n",
       "        vertical-align: top;\n",
       "    }\n",
       "\n",
       "    .dataframe thead th {\n",
       "        text-align: right;\n",
       "    }\n",
       "</style>\n",
       "<table border=\"1\" class=\"dataframe\">\n",
       "  <thead>\n",
       "    <tr style=\"text-align: right;\">\n",
       "      <th></th>\n",
       "      <th>gender</th>\n",
       "      <th>SeniorCitizen</th>\n",
       "      <th>Partner</th>\n",
       "      <th>Dependents</th>\n",
       "      <th>tenure</th>\n",
       "      <th>PhoneService</th>\n",
       "      <th>OnlineSecurity</th>\n",
       "      <th>OnlineBackup</th>\n",
       "      <th>DeviceProtection</th>\n",
       "      <th>TechSupport</th>\n",
       "      <th>StreamingTV</th>\n",
       "      <th>StreamingMovies</th>\n",
       "      <th>Contract</th>\n",
       "      <th>MonthlyCharges</th>\n",
       "      <th>TotalCharges</th>\n",
       "      <th>Churn</th>\n",
       "    </tr>\n",
       "  </thead>\n",
       "  <tbody>\n",
       "    <tr>\n",
       "      <th>0</th>\n",
       "      <td>Female</td>\n",
       "      <td>0</td>\n",
       "      <td>Yes</td>\n",
       "      <td>No</td>\n",
       "      <td>1</td>\n",
       "      <td>No</td>\n",
       "      <td>No</td>\n",
       "      <td>Yes</td>\n",
       "      <td>No</td>\n",
       "      <td>No</td>\n",
       "      <td>No</td>\n",
       "      <td>No</td>\n",
       "      <td>Month-to-month</td>\n",
       "      <td>29.85</td>\n",
       "      <td>29.85</td>\n",
       "      <td>No</td>\n",
       "    </tr>\n",
       "    <tr>\n",
       "      <th>1</th>\n",
       "      <td>Male</td>\n",
       "      <td>0</td>\n",
       "      <td>No</td>\n",
       "      <td>No</td>\n",
       "      <td>34</td>\n",
       "      <td>Yes</td>\n",
       "      <td>Yes</td>\n",
       "      <td>No</td>\n",
       "      <td>Yes</td>\n",
       "      <td>No</td>\n",
       "      <td>No</td>\n",
       "      <td>No</td>\n",
       "      <td>One year</td>\n",
       "      <td>56.95</td>\n",
       "      <td>1889.5</td>\n",
       "      <td>No</td>\n",
       "    </tr>\n",
       "    <tr>\n",
       "      <th>2</th>\n",
       "      <td>Male</td>\n",
       "      <td>0</td>\n",
       "      <td>No</td>\n",
       "      <td>No</td>\n",
       "      <td>2</td>\n",
       "      <td>Yes</td>\n",
       "      <td>Yes</td>\n",
       "      <td>Yes</td>\n",
       "      <td>No</td>\n",
       "      <td>No</td>\n",
       "      <td>No</td>\n",
       "      <td>No</td>\n",
       "      <td>Month-to-month</td>\n",
       "      <td>53.85</td>\n",
       "      <td>108.15</td>\n",
       "      <td>Yes</td>\n",
       "    </tr>\n",
       "    <tr>\n",
       "      <th>3</th>\n",
       "      <td>Male</td>\n",
       "      <td>0</td>\n",
       "      <td>No</td>\n",
       "      <td>No</td>\n",
       "      <td>45</td>\n",
       "      <td>No</td>\n",
       "      <td>Yes</td>\n",
       "      <td>No</td>\n",
       "      <td>Yes</td>\n",
       "      <td>Yes</td>\n",
       "      <td>No</td>\n",
       "      <td>No</td>\n",
       "      <td>One year</td>\n",
       "      <td>42.30</td>\n",
       "      <td>1840.75</td>\n",
       "      <td>No</td>\n",
       "    </tr>\n",
       "    <tr>\n",
       "      <th>4</th>\n",
       "      <td>Female</td>\n",
       "      <td>0</td>\n",
       "      <td>No</td>\n",
       "      <td>No</td>\n",
       "      <td>2</td>\n",
       "      <td>Yes</td>\n",
       "      <td>No</td>\n",
       "      <td>No</td>\n",
       "      <td>No</td>\n",
       "      <td>No</td>\n",
       "      <td>No</td>\n",
       "      <td>No</td>\n",
       "      <td>Month-to-month</td>\n",
       "      <td>70.70</td>\n",
       "      <td>151.65</td>\n",
       "      <td>Yes</td>\n",
       "    </tr>\n",
       "  </tbody>\n",
       "</table>\n",
       "</div>"
      ],
      "text/plain": [
       "   gender  SeniorCitizen Partner Dependents  tenure PhoneService  \\\n",
       "0  Female              0     Yes         No       1           No   \n",
       "1    Male              0      No         No      34          Yes   \n",
       "2    Male              0      No         No       2          Yes   \n",
       "3    Male              0      No         No      45           No   \n",
       "4  Female              0      No         No       2          Yes   \n",
       "\n",
       "  OnlineSecurity OnlineBackup DeviceProtection TechSupport StreamingTV  \\\n",
       "0             No          Yes               No          No          No   \n",
       "1            Yes           No              Yes          No          No   \n",
       "2            Yes          Yes               No          No          No   \n",
       "3            Yes           No              Yes         Yes          No   \n",
       "4             No           No               No          No          No   \n",
       "\n",
       "  StreamingMovies        Contract  MonthlyCharges TotalCharges Churn  \n",
       "0              No  Month-to-month           29.85        29.85    No  \n",
       "1              No        One year           56.95       1889.5    No  \n",
       "2              No  Month-to-month           53.85       108.15   Yes  \n",
       "3              No        One year           42.30      1840.75    No  \n",
       "4              No  Month-to-month           70.70       151.65   Yes  "
      ]
     },
     "execution_count": 4,
     "metadata": {},
     "output_type": "execute_result"
    }
   ],
   "source": [
    "data.head()"
   ]
  },
  {
   "cell_type": "code",
   "execution_count": 5,
   "id": "78ed6ed3-1ca6-414a-b963-6dfd673732ef",
   "metadata": {},
   "outputs": [
    {
     "data": {
      "text/plain": [
       "(7043, 16)"
      ]
     },
     "execution_count": 5,
     "metadata": {},
     "output_type": "execute_result"
    }
   ],
   "source": [
    "data.shape"
   ]
  },
  {
   "cell_type": "code",
   "execution_count": 6,
   "id": "fb8c4624-2109-4046-9d93-368527aa5547",
   "metadata": {},
   "outputs": [
    {
     "name": "stdout",
     "output_type": "stream",
     "text": [
      "<class 'pandas.core.frame.DataFrame'>\n",
      "RangeIndex: 7043 entries, 0 to 7042\n",
      "Data columns (total 16 columns):\n",
      " #   Column            Non-Null Count  Dtype  \n",
      "---  ------            --------------  -----  \n",
      " 0   gender            7043 non-null   object \n",
      " 1   SeniorCitizen     7043 non-null   int64  \n",
      " 2   Partner           7043 non-null   object \n",
      " 3   Dependents        7043 non-null   object \n",
      " 4   tenure            7043 non-null   int64  \n",
      " 5   PhoneService      7043 non-null   object \n",
      " 6   OnlineSecurity    7043 non-null   object \n",
      " 7   OnlineBackup      7043 non-null   object \n",
      " 8   DeviceProtection  7043 non-null   object \n",
      " 9   TechSupport       7043 non-null   object \n",
      " 10  StreamingTV       7043 non-null   object \n",
      " 11  StreamingMovies   7043 non-null   object \n",
      " 12  Contract          7043 non-null   object \n",
      " 13  MonthlyCharges    7043 non-null   float64\n",
      " 14  TotalCharges      7043 non-null   object \n",
      " 15  Churn             7043 non-null   object \n",
      "dtypes: float64(1), int64(2), object(13)\n",
      "memory usage: 880.5+ KB\n"
     ]
    }
   ],
   "source": [
    "data.info()"
   ]
  },
  {
   "cell_type": "code",
   "execution_count": 7,
   "id": "15e6e212-31a4-4d45-8b47-b284cdd1c394",
   "metadata": {},
   "outputs": [
    {
     "data": {
      "text/plain": [
       "gender              0\n",
       "SeniorCitizen       0\n",
       "Partner             0\n",
       "Dependents          0\n",
       "tenure              0\n",
       "PhoneService        0\n",
       "OnlineSecurity      0\n",
       "OnlineBackup        0\n",
       "DeviceProtection    0\n",
       "TechSupport         0\n",
       "StreamingTV         0\n",
       "StreamingMovies     0\n",
       "Contract            0\n",
       "MonthlyCharges      0\n",
       "TotalCharges        0\n",
       "Churn               0\n",
       "dtype: int64"
      ]
     },
     "execution_count": 7,
     "metadata": {},
     "output_type": "execute_result"
    }
   ],
   "source": [
    "data.isnull().sum()"
   ]
  },
  {
   "cell_type": "code",
   "execution_count": 8,
   "id": "10ea4087-0931-4f8d-bab0-5f3896fc5d40",
   "metadata": {},
   "outputs": [],
   "source": [
    "data['TotalCharges'] = pd.to_numeric(data['TotalCharges'], errors='coerce') \n",
    "data['TotalCharges'] = data['TotalCharges'].fillna(np.mean(data['TotalCharges']))"
   ]
  },
  {
   "cell_type": "markdown",
   "id": "0df8cb2f-48eb-4633-bce3-9a5a32af5fdd",
   "metadata": {},
   "source": [
    "## X-y split"
   ]
  },
  {
   "cell_type": "code",
   "execution_count": 9,
   "id": "48c5cb4f-f308-4930-8357-445d163668d7",
   "metadata": {},
   "outputs": [],
   "source": [
    "y = data['Churn']\n",
    "X = data[['tenure', 'SeniorCitizen','MonthlyCharges', 'TotalCharges']] "
   ]
  },
  {
   "cell_type": "markdown",
   "id": "38e0ddd2-2950-427d-b432-c39852f36972",
   "metadata": {},
   "source": [
    "## Apply SMOTE for upsampling"
   ]
  },
  {
   "cell_type": "code",
   "execution_count": 10,
   "id": "21271b2f-582b-47f3-b3c5-10e30543a2a5",
   "metadata": {},
   "outputs": [
    {
     "data": {
      "text/plain": [
       "No     5174\n",
       "Yes    5174\n",
       "Name: Churn, dtype: int64"
      ]
     },
     "execution_count": 10,
     "metadata": {},
     "output_type": "execute_result"
    }
   ],
   "source": [
    "from imblearn.over_sampling import SMOTE\n",
    "smote = SMOTE()\n",
    "transformer = StandardScaler().fit(X)\n",
    "X = transformer.transform(X) \n",
    "X_sm, y_sm = smote.fit_sample(X, y) \n",
    "y_sm.value_counts()\n",
    "\n"
   ]
  },
  {
   "cell_type": "markdown",
   "id": "eeaad8a0-0b8d-4fed-8769-874bdf7d9e0f",
   "metadata": {},
   "source": [
    "## Train-test split"
   ]
  },
  {
   "cell_type": "code",
   "execution_count": 11,
   "id": "db0b18e3-ca13-49f3-924d-8f632e643309",
   "metadata": {},
   "outputs": [],
   "source": [
    "X_train_smote, X_test_smote, y_train_smote, y_test_smote = train_test_split(X_sm, y_sm, test_size=0.33, random_state=11)"
   ]
  },
  {
   "cell_type": "markdown",
   "id": "2d0af65c-e4a8-4fdd-ab62-4cb70806c03b",
   "metadata": {},
   "source": [
    "## Logistic Regression"
   ]
  },
  {
   "cell_type": "code",
   "execution_count": 12,
   "id": "ec3a03f2-41c8-4ef2-a8e1-392f65d51bd1",
   "metadata": {},
   "outputs": [
    {
     "name": "stdout",
     "output_type": "stream",
     "text": [
      "The accuracy of the model is:  0.73\n",
      "The kappa of the model is:  0.47\n"
     ]
    }
   ],
   "source": [
    "classification = LogisticRegression(random_state=0, solver='lbfgs',\n",
    "                        multi_class='ovr').fit(X_train_smote, y_train_smote)\n",
    "\n",
    "print(\"The accuracy of the model is: \",round(classification.score(X_test_smote, y_test_smote),2))\n",
    "print(\"The kappa of the model is: \",round(cohen_kappa_score(y_sm,classification.predict(X_sm)),2))"
   ]
  },
  {
   "cell_type": "markdown",
   "id": "d3356d17-c894-47ba-8b7d-e6f4a717130e",
   "metadata": {},
   "source": [
    "## Decision Regression"
   ]
  },
  {
   "cell_type": "code",
   "execution_count": 13,
   "id": "2ef6bc59-7534-4cd8-bc56-a54ec7bb967f",
   "metadata": {},
   "outputs": [
    {
     "name": "stdout",
     "output_type": "stream",
     "text": [
      "The accuracy of the model is: 0.70\n",
      "The kappa of the model is:  0.42\n"
     ]
    }
   ],
   "source": [
    "model = DecisionTreeClassifier(max_depth=3)\n",
    "model.fit(X_train_smote, y_train_smote)\n",
    "print(\"The accuracy of the model is: {:4.2f}\".format(model.score(X_test_smote, y_test_smote)))\n",
    "print(\"The kappa of the model is: \",round(cohen_kappa_score(y_sm,model.predict(X_sm)),2))"
   ]
  },
  {
   "cell_type": "code",
   "execution_count": 14,
   "id": "c01175ee-1688-4743-b3e0-35d69a539ad6",
   "metadata": {},
   "outputs": [],
   "source": [
    "model1 = DecisionTreeClassifier()\n",
    "model2 = LogisticRegression()\n",
    "model3 = KNeighborsClassifier()\n",
    "from sklearn.model_selection import cross_val_score\n",
    "from scipy.stats import t, norm"
   ]
  },
  {
   "cell_type": "code",
   "execution_count": 15,
   "id": "d9bc28c6-35dc-4c70-a454-1b345a39e788",
   "metadata": {},
   "outputs": [
    {
     "name": "stdout",
     "output_type": "stream",
     "text": [
      "The rmse of the Regression Tree model is (CV witk K=5) = 0.76 +/- 0.01\n",
      "The rmse of the Linear Regression model is (CV witk K=5) = 0.74 +/- 0.01\n",
      "The rmse of the KNN model is (CV witk K=5) = 0.77 +/- 0.01\n"
     ]
    }
   ],
   "source": [
    "model_pipeline = [model1, model2, model3]\n",
    "model_names = ['Regression Tree', 'Linear Regression', 'KNN']\n",
    "\n",
    "\n",
    "def confidence_intervals(model_pipeline, model_names, X_train, y_train, alpha = 0.05, K = 10):\n",
    "# We set the significance level\n",
    "#alpha = 0.05\n",
    "#K = 10\n",
    "    scores = {}\n",
    "    i=0\n",
    "    for model in model_pipeline:\n",
    "        mean_score = np.mean(cross_val_score(model, X_train, y_train, cv=K))\n",
    "        if (K < 30):\n",
    "            # t.ppf(area) gives us the critical value corresponding to the area for the t-student distribution.\n",
    "            t_critical = abs(t.ppf(1-alpha/2, K-1)) \n",
    "            interval = t_critical*(np.std(cross_val_score(model, X_train, y_train, cv=K))/np.sqrt(K))\n",
    "        else:\n",
    "            # norm.ppf(area) gives us the critical value corresponding to the area for the normal distribution\n",
    "            z_critical = abs(norm.ppf(1-alpha/2)) \n",
    "            interval = z_critical*(np.std(cross_val_score(model, X_train, y_train, cv=K))/np.sqrt(K))\n",
    "        scores[model_names[i]] = [mean_score, mean_score - interval, mean_score + interval]\n",
    "        print(\"The rmse of the {} model is (CV witk K={}) = {:4.2f} +/- {:4.2f}\".format(model_names[i], K, mean_score, interval))\n",
    "        i = i+1\n",
    "\n",
    "confidence_intervals(model_pipeline, model_names, X_train_smote, y_train_smote, 0.05, 5)"
   ]
  },
  {
   "cell_type": "markdown",
   "id": "b61e4685-96b6-4411-b3e5-fead0467068d",
   "metadata": {},
   "source": [
    "# Apply TomekLinks for downsampling"
   ]
  },
  {
   "cell_type": "code",
   "execution_count": 16,
   "id": "e9393390-b817-43c2-b324-8270b27af1ea",
   "metadata": {},
   "outputs": [
    {
     "name": "stderr",
     "output_type": "stream",
     "text": [
      "C:\\Users\\jcast\\anaconda3\\lib\\site-packages\\imblearn\\utils\\_validation.py:635: FutureWarning: Pass sampling_strategy=majority as keyword args. From version 0.9 passing these as positional arguments will result in an error\n",
      "  warnings.warn(\"Pass {} as keyword args. From version 0.9 \"\n"
     ]
    },
    {
     "data": {
      "text/plain": [
       "Churn\n",
       "No       4666\n",
       "Yes      1869\n",
       "dtype: int64"
      ]
     },
     "execution_count": 16,
     "metadata": {},
     "output_type": "execute_result"
    }
   ],
   "source": [
    "tl = TomekLinks('majority')\n",
    "X_tl, y_tl = tl.fit_sample(X, y)\n",
    "pd.DataFrame(y_tl).value_counts()"
   ]
  },
  {
   "cell_type": "markdown",
   "id": "7c1b105f-4ec4-49ad-8781-e274ed4d00e7",
   "metadata": {},
   "source": [
    "## Train-test split"
   ]
  },
  {
   "cell_type": "code",
   "execution_count": 17,
   "id": "e5f57fd6-07fb-4ba8-b3bb-8de58e4f086d",
   "metadata": {},
   "outputs": [],
   "source": [
    "X_train_tl, X_test_tl, y_train_tl, y_test_tl = train_test_split(X_tl, y_tl, test_size=0.33, random_state=11)"
   ]
  },
  {
   "cell_type": "markdown",
   "id": "7e428f5b-86ff-4d21-b1b5-369ee64bf873",
   "metadata": {},
   "source": [
    "## Logistic Regression"
   ]
  },
  {
   "cell_type": "code",
   "execution_count": 18,
   "id": "babc4b86-5fc2-4e26-acb6-d30291d60171",
   "metadata": {
    "scrolled": true
   },
   "outputs": [
    {
     "name": "stdout",
     "output_type": "stream",
     "text": [
      "The accuracy of the model is:  0.8\n",
      "The kappa of the model is:  0.45\n"
     ]
    }
   ],
   "source": [
    "classification1 = LogisticRegression(random_state=0, solver='lbfgs',\n",
    "                        multi_class='ovr').fit(X_train_tl, y_train_tl)\n",
    "\n",
    "print(\"The accuracy of the model is: \",round(classification1.score(X_test_tl, y_test_tl),2))\n",
    "print(\"The kappa of the model is: \",round(cohen_kappa_score(y_tl,classification1.predict(X_tl)),2))"
   ]
  },
  {
   "cell_type": "markdown",
   "id": "20e82e17-4d05-4c4a-8b5a-a0ec0c528a83",
   "metadata": {},
   "source": [
    "## Decision Regression"
   ]
  },
  {
   "cell_type": "code",
   "execution_count": 19,
   "id": "33498a6e-ac0e-4217-883e-c32961c9013c",
   "metadata": {},
   "outputs": [
    {
     "name": "stdout",
     "output_type": "stream",
     "text": [
      "The accuracy of the model is: 0.76\n",
      "The kappa of the model is:  0.42\n"
     ]
    }
   ],
   "source": [
    "model1 = DecisionTreeClassifier(max_depth=3)\n",
    "model1.fit(X_train_tl, y_train_tl)\n",
    "print(\"The accuracy of the model is: {:4.2f}\".format(model.score(X_test_tl, y_test_tl)))\n",
    "print(\"The kappa of the model is: \",round(cohen_kappa_score(y_tl,model.predict(X_tl)),2))"
   ]
  },
  {
   "cell_type": "code",
   "execution_count": null,
   "id": "6dca9933-a7a6-473c-b0be-fc6152418bf8",
   "metadata": {},
   "outputs": [],
   "source": []
  }
 ],
 "metadata": {
  "kernelspec": {
   "display_name": "Python 3 (ipykernel)",
   "language": "python",
   "name": "python3"
  },
  "language_info": {
   "codemirror_mode": {
    "name": "ipython",
    "version": 3
   },
   "file_extension": ".py",
   "mimetype": "text/x-python",
   "name": "python",
   "nbconvert_exporter": "python",
   "pygments_lexer": "ipython3",
   "version": "3.9.7"
  }
 },
 "nbformat": 4,
 "nbformat_minor": 5
}
